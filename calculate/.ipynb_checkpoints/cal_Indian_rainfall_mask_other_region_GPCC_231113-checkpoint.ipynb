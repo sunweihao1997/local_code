{
 "cells": [
  {
   "cell_type": "markdown",
   "id": "3cbdea89-50e1-4c13-99f9-217042787357",
   "metadata": {},
   "source": [
    "**2023-11-13**<p>\n",
    "**This script is for purpose of comparing the precipitation from observation and model simulation**<p>\n",
    "**This script is to  calculate and paint the trend of the Indian precipitation**\n",
    "\n",
    "reference:\n",
    "https://matplotlib.org/stable/gallery/lines_bars_and_markers/csd_demo.html#sphx-glr-gallery-lines-bars-and-markers-csd-demo-py"
   ]
  },
  {
   "cell_type": "code",
   "execution_count": null,
   "id": "ff150639-0da7-4ef1-9103-40b3ecba476f",
   "metadata": {},
   "outputs": [],
   "source": [
    "from matplotlib import projections\n",
    "import xarray as xr\n",
    "import numpy as np\n",
    "import cartopy.crs as ccrs\n",
    "import matplotlib.pyplot as plt\n",
    "import sys\n",
    "import cartopy\n",
    "import geopandas\n",
    "import rioxarray\n",
    "from shapely.geometry import mapping\n",
    "\n",
    "module_path = '/Users/sunweihao/local-code/module'\n",
    "sys.path.append(module_path)\n",
    "from module_sun import mask_use_shapefile"
   ]
  },
  {
   "cell_type": "markdown",
   "id": "49242673",
   "metadata": {},
   "source": [
    "<font color=red> 1. Process the data </font>"
   ]
  },
  {
   "cell_type": "code",
   "execution_count": null,
   "id": "17a5daa9-13fa-43a1-9194-b93815358416",
   "metadata": {},
   "outputs": [],
   "source": [
    "shp_path = '/Volumes/samssd/data/shape/indian/'\n",
    "shp_name = 'IND_adm0.shp'\n",
    "\n",
    "prect_path = '/Volumes/samssd/data/precipitation/GPCC/'\n",
    "prect_name = 'precip.mon.total.1x1.v2020.nc'\n",
    "\n",
    "# Mask the data out of the bound\n",
    "f0       = xr.open_dataset(prect_path + prect_name)\n",
    "prect_m  = mask_use_shapefile(f0, \"lat\", \"lon\", shp_path + shp_name)\n",
    "\n",
    "#print(prect_m) # 1548, 180, 360, time starts from 1891-01-01\n",
    "#============== Calculate JJA mean ===================\n",
    "# 1. Give the range of months\n",
    "month_0 = 5 ; month_1 = 9 # 6 - 8 month\n",
    "\n",
    "# 2. Claim the array\n",
    "prect_avg = np.zeros((129, 180, 360))\n",
    "\n",
    "# 3. Calculate\n",
    "for yyyy in range(129):\n",
    "    prect_avg[yyyy] = np.average(prect_m['precip'].data[(yyyy * 12 + month_0):(yyyy * 12 + month_1)], axis=0)\n",
    "\n",
    "#print('Done')\n",
    "# 4. Give the axis information to the output\n",
    "ncfile  =  xr.Dataset(\n",
    "{\n",
    "    \"JJAS_precip\": ([\"time\", \"lat\", \"lon\"], prect_avg),\n",
    "},\n",
    "coords={\n",
    "    \"time\": ([\"time\"], np.linspace(1891, 1891 + 129, 129)),\n",
    "    \"lat\":  ([\"lat\"],  f0['lat'].data),\n",
    "    \"lon\":  ([\"lon\"],  f0['lon'].data),\n",
    "},\n",
    ")\n",
    "\n"
   ]
  },
  {
   "cell_type": "markdown",
   "id": "c3babf66",
   "metadata": {},
   "source": [
    "<font color=red>2. Whole Indian mean and trend</font>"
   ]
  },
  {
   "cell_type": "code",
   "execution_count": null,
   "id": "3f756a8d",
   "metadata": {},
   "outputs": [],
   "source": [
    "whole_precip  =  np.zeros((116))\n",
    "for yyyy in range(116):\n",
    "    whole_precip[yyyy] = np.nanmean(ncfile['JJAS_precip'].data[yyyy])\n"
   ]
  },
  {
   "cell_type": "markdown",
   "id": "70fce16e",
   "metadata": {},
   "source": [
    "<font color=red>3. Paint the trend of the whole Indian precipitation</font>"
   ]
  },
  {
   "cell_type": "code",
   "execution_count": null,
   "id": "857b5c0f",
   "metadata": {},
   "outputs": [],
   "source": [
    "def cal_moving_average(x, w):\n",
    "        return np.convolve(x, np.ones(w), \"valid\") / w\n",
    "\n",
    "w = 13\n",
    "whole_precip_move = cal_moving_average(whole_precip, w)\n",
    "#print(whole_precip_move.shape) # 117 points\n",
    "\n",
    "fig, ax = plt.subplots()\n",
    "ax.plot(ncfile['time'].data[:116], whole_precip/31, color='grey', linewidth=1.5)\n",
    "time_process = np.linspace(1891 + (w-1)/2, 2006 - (w-1)/2, 116 - (w-1))\n",
    "ax.plot(time_process, whole_precip_move/31, color='orange', linewidth=2.5)\n",
    "\n",
    "\n",
    "plt.savefig(\"/Volumes/samssd/paint/EUI_GPCC_whole_Indian_rainfall_trend_JJAS_moving13.png\", dpi=700)"
   ]
  },
  {
   "cell_type": "code",
   "execution_count": null,
   "id": "a8866ad1",
   "metadata": {},
   "outputs": [],
   "source": [
    "w = 11\n",
    "whole_precip_move = cal_moving_average(whole_precip, w)\n",
    "#print(whole_precip_move.shape) # 117 points\n",
    "\n",
    "fig, ax = plt.subplots()\n",
    "ax.plot(ncfile['time'].data[:116], whole_precip/31, color='grey', linewidth=1.5)\n",
    "time_process = np.linspace(1891 + (w-1)/2, 2006 - (w-1)/2, 116 - (w-1))\n",
    "ax.plot(time_process, whole_precip_move/31, color='orange', linewidth=2.5)\n",
    "\n",
    "plt.savefig(\"/Volumes/samssd/paint/EUI_GPCC_whole_Indian_rainfall_trend_JJAS_moving11.png\", dpi=700)"
   ]
  },
  {
   "cell_type": "markdown",
   "id": "30417135",
   "metadata": {},
   "source": [
    "## Add the trend to the time series"
   ]
  },
  {
   "cell_type": "markdown",
   "id": "3ea6a3c8",
   "metadata": {},
   "source": [
    "## <font color=red>1. calculate deviation and linear trend</font>"
   ]
  },
  {
   "cell_type": "code",
   "execution_count": null,
   "id": "a33175c5",
   "metadata": {},
   "outputs": [],
   "source": []
  }
 ],
 "metadata": {
  "kernelspec": {
   "display_name": "Python 3.12.0 ('geopandas')",
   "language": "python",
   "name": "python3"
  },
  "language_info": {
   "codemirror_mode": {
    "name": "ipython",
    "version": 3
   },
   "file_extension": ".py",
   "mimetype": "text/x-python",
   "name": "python",
   "nbconvert_exporter": "python",
   "pygments_lexer": "ipython3",
   "version": "3.12.0"
  },
  "vscode": {
   "interpreter": {
    "hash": "2886f6d821492c004b306e07bfe1ca1aa82e4446640e33d1025452418a80d62b"
   }
  }
 },
 "nbformat": 4,
 "nbformat_minor": 5
}
